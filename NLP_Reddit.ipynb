{
 "cells": [
  {
   "cell_type": "code",
   "execution_count": 69,
   "id": "8cb31917",
   "metadata": {},
   "outputs": [],
   "source": [
    "import numpy as np \n",
    "import pandas as pd \n",
    "import numpy as np\n",
    "import pandas as pd \n",
    "import nltk\n",
    "from nltk.stem import PorterStemmer\n",
    "from sklearn.feature_extraction.text import CountVectorizer\n",
    "from sklearn.feature_extraction.text import TfidfTransformer\n",
    "from sklearn.model_selection import train_test_split\n",
    "from sklearn.metrics import classification_report,confusion_matrix\n",
    "import seaborn as sns\n",
    "from nltk.corpus import stopwords\n",
    "import matplotlib.pyplot as plt\n",
    "import warnings\n",
    "from collections import Counter\n",
    "from imblearn.over_sampling import SMOTE\n",
    "from sklearn.model_selection import train_test_split\n",
    "from imblearn.under_sampling import RandomUnderSampler\n",
    "from sklearn.preprocessing import LabelEncoder\n",
    "from sklearn import metrics\n",
    "from sklearn.metrics import classification_report,confusion_matrix\n",
    "from sklearn.model_selection import RepeatedStratifiedKFold\n",
    "from sklearn.model_selection import GridSearchCV\n",
    "from sklearn.metrics import precision_recall_curve\n",
    "from sklearn.metrics import auc\n",
    "from matplotlib import pyplot\n",
    "from sklearn.tree import DecisionTreeClassifier\n",
    "from sklearn.naive_bayes import GaussianNB\n",
    "from sklearn.naive_bayes import MultinomialNB\n",
    "from sklearn.neighbors import KNeighborsClassifier\n",
    "from sklearn.linear_model import LogisticRegression\n",
    "from sklearn import svm\n",
    "from sklearn.svm import SVC\n",
    "from sklearn import metrics\n",
    "from sklearn.feature_extraction.text import CountVectorizer\n",
    "from sklearn.feature_extraction.text import TfidfTransformer\n",
    "from sklearn.ensemble import RandomForestClassifier\n",
    "from sklearn.model_selection import GridSearchCV\n",
    "from sklearn.naive_bayes import MultinomialNB\n",
    "from sklearn.neural_network import MLPClassifier\n",
    "from sklearn.pipeline import Pipeline\n",
    "\n",
    "from sklearn.metrics import accuracy_score\n",
    "\n",
    "import nltk\n",
    "from nltk.corpus import movie_reviews\n",
    "import random\n",
    "from prettytable import PrettyTable\n",
    "import textwrap \n",
    "from nltk.classify.scikitlearn import SklearnClassifier\n",
    "from sklearn.linear_model import LogisticRegression,SGDClassifier\n",
    "from sklearn.model_selection import train_test_split\n",
    "from prettytable import PrettyTable"
   ]
  },
  {
   "cell_type": "code",
   "execution_count": 2,
   "id": "8b839ff3",
   "metadata": {},
   "outputs": [],
   "source": [
    "missing_values = [\"n/a\", \"na\",\"NA\",\"NaN\", \"--\", \"Not Answer\",\"Not_Answer\"]"
   ]
  },
  {
   "cell_type": "code",
   "execution_count": 3,
   "id": "e559b0cb",
   "metadata": {},
   "outputs": [],
   "source": [
    "df = pd.read_csv('toxic_reddit_tagged.csv', na_values = missing_values)"
   ]
  },
  {
   "cell_type": "code",
   "execution_count": 4,
   "id": "01724a77",
   "metadata": {},
   "outputs": [
    {
     "data": {
      "text/html": [
       "<div>\n",
       "<style scoped>\n",
       "    .dataframe tbody tr th:only-of-type {\n",
       "        vertical-align: middle;\n",
       "    }\n",
       "\n",
       "    .dataframe tbody tr th {\n",
       "        vertical-align: top;\n",
       "    }\n",
       "\n",
       "    .dataframe thead th {\n",
       "        text-align: right;\n",
       "    }\n",
       "</style>\n",
       "<table border=\"1\" class=\"dataframe\">\n",
       "  <thead>\n",
       "    <tr style=\"text-align: right;\">\n",
       "      <th></th>\n",
       "      <th>Unnamed: 0</th>\n",
       "      <th>comments</th>\n",
       "      <th>tagging</th>\n",
       "    </tr>\n",
       "  </thead>\n",
       "  <tbody>\n",
       "    <tr>\n",
       "      <th>0</th>\n",
       "      <td>1</td>\n",
       "      <td>i'm from spain, i hate this shit</td>\n",
       "      <td>1</td>\n",
       "    </tr>\n",
       "    <tr>\n",
       "      <th>1</th>\n",
       "      <td>6</td>\n",
       "      <td>the funny thing spanish nobility basically inv...</td>\n",
       "      <td>0</td>\n",
       "    </tr>\n",
       "    <tr>\n",
       "      <th>2</th>\n",
       "      <td>9</td>\n",
       "      <td>my mother spanish thankfully taught siblings i...</td>\n",
       "      <td>1</td>\n",
       "    </tr>\n",
       "    <tr>\n",
       "      <th>3</th>\n",
       "      <td>10</td>\n",
       "      <td>you mean country created spanish language lang...</td>\n",
       "      <td>0</td>\n",
       "    </tr>\n",
       "    <tr>\n",
       "      <th>4</th>\n",
       "      <td>11</td>\n",
       "      <td>that's thing ... odds poster isn't aware spain...</td>\n",
       "      <td>1</td>\n",
       "    </tr>\n",
       "  </tbody>\n",
       "</table>\n",
       "</div>"
      ],
      "text/plain": [
       "   Unnamed: 0                                           comments  tagging\n",
       "0           1                   i'm from spain, i hate this shit        1\n",
       "1           6  the funny thing spanish nobility basically inv...        0\n",
       "2           9  my mother spanish thankfully taught siblings i...        1\n",
       "3          10  you mean country created spanish language lang...        0\n",
       "4          11  that's thing ... odds poster isn't aware spain...        1"
      ]
     },
     "execution_count": 4,
     "metadata": {},
     "output_type": "execute_result"
    }
   ],
   "source": [
    "df.head()"
   ]
  },
  {
   "cell_type": "code",
   "execution_count": 5,
   "id": "79dcea25",
   "metadata": {},
   "outputs": [
    {
     "data": {
      "text/html": [
       "<div>\n",
       "<style scoped>\n",
       "    .dataframe tbody tr th:only-of-type {\n",
       "        vertical-align: middle;\n",
       "    }\n",
       "\n",
       "    .dataframe tbody tr th {\n",
       "        vertical-align: top;\n",
       "    }\n",
       "\n",
       "    .dataframe thead tr th {\n",
       "        text-align: left;\n",
       "    }\n",
       "\n",
       "    .dataframe thead tr:last-of-type th {\n",
       "        text-align: right;\n",
       "    }\n",
       "</style>\n",
       "<table border=\"1\" class=\"dataframe\">\n",
       "  <thead>\n",
       "    <tr>\n",
       "      <th></th>\n",
       "      <th colspan=\"8\" halign=\"left\">Unnamed: 0</th>\n",
       "    </tr>\n",
       "    <tr>\n",
       "      <th></th>\n",
       "      <th>count</th>\n",
       "      <th>mean</th>\n",
       "      <th>std</th>\n",
       "      <th>min</th>\n",
       "      <th>25%</th>\n",
       "      <th>50%</th>\n",
       "      <th>75%</th>\n",
       "      <th>max</th>\n",
       "    </tr>\n",
       "    <tr>\n",
       "      <th>tagging</th>\n",
       "      <th></th>\n",
       "      <th></th>\n",
       "      <th></th>\n",
       "      <th></th>\n",
       "      <th></th>\n",
       "      <th></th>\n",
       "      <th></th>\n",
       "      <th></th>\n",
       "    </tr>\n",
       "  </thead>\n",
       "  <tbody>\n",
       "    <tr>\n",
       "      <th>0</th>\n",
       "      <td>8778.0</td>\n",
       "      <td>12869.029164</td>\n",
       "      <td>7392.241734</td>\n",
       "      <td>6.0</td>\n",
       "      <td>6469.5</td>\n",
       "      <td>12756.5</td>\n",
       "      <td>19467.5</td>\n",
       "      <td>25371.0</td>\n",
       "    </tr>\n",
       "    <tr>\n",
       "      <th>1</th>\n",
       "      <td>8067.0</td>\n",
       "      <td>13110.559564</td>\n",
       "      <td>7095.640484</td>\n",
       "      <td>1.0</td>\n",
       "      <td>6705.5</td>\n",
       "      <td>13482.0</td>\n",
       "      <td>19238.0</td>\n",
       "      <td>25369.0</td>\n",
       "    </tr>\n",
       "  </tbody>\n",
       "</table>\n",
       "</div>"
      ],
      "text/plain": [
       "        Unnamed: 0                                                            \\\n",
       "             count          mean          std  min     25%      50%      75%   \n",
       "tagging                                                                        \n",
       "0           8778.0  12869.029164  7392.241734  6.0  6469.5  12756.5  19467.5   \n",
       "1           8067.0  13110.559564  7095.640484  1.0  6705.5  13482.0  19238.0   \n",
       "\n",
       "                  \n",
       "             max  \n",
       "tagging           \n",
       "0        25371.0  \n",
       "1        25369.0  "
      ]
     },
     "execution_count": 5,
     "metadata": {},
     "output_type": "execute_result"
    }
   ],
   "source": [
    "df.groupby('tagging').describe()"
   ]
  },
  {
   "cell_type": "code",
   "execution_count": 6,
   "id": "e5d07a56",
   "metadata": {},
   "outputs": [
    {
     "data": {
      "image/png": "[encoded data removed]",
      "text/plain": [
       "<Figure size 432x288 with 1 Axes>"
      ]
     },
     "metadata": {},
     "output_type": "display_data"
    }
   ],
   "source": [
    "count_Class = pd.value_counts(df.tagging, sort = True)\n",
    "\n",
    "# Data to Plot\n",
    "labels = '0', '1'\n",
    "sizes = [count_Class[0], count_Class[1]]\n",
    "colors = ['red', 'yellow']\n",
    "explode = (0.1, 0.1)\n",
    "\n",
    "# Plot\n",
    "plt.pie(sizes, explode = explode, labels = labels, colors = colors,\n",
    "        autopct = '%1.1f%%', shadow = True, startangle = 90)\n",
    "plt.axis('equal')\n",
    "plt.show()"
   ]
  },
  {
   "cell_type": "code",
   "execution_count": 7,
   "id": "ef26bb68",
   "metadata": {},
   "outputs": [
    {
     "data": {
      "text/plain": [
       "Unnamed: 0    0\n",
       "comments      0\n",
       "tagging       0\n",
       "dtype: int64"
      ]
     },
     "execution_count": 7,
     "metadata": {},
     "output_type": "execute_result"
    }
   ],
   "source": [
    "df.isnull().sum()"
   ]
  },
  {
   "cell_type": "markdown",
   "id": "227a201f",
   "metadata": {},
   "source": [
    "### Function that prints features with the highest coefficient values, per class"
   ]
  },
  {
   "cell_type": "code",
   "execution_count": 8,
   "id": "2a5b40ef",
   "metadata": {},
   "outputs": [],
   "source": [
    "\n",
    "def get_most_informative_features(clf, vectorizer, \n",
    "                                  label_names, \n",
    "                                  max_number_informative_features):\n",
    "\n",
    "    output = []\n",
    "\n",
    "    \n",
    "    try:\n",
    "        feature_names = vectorizer.get_feature_names()\n",
    "\n",
    "        label_index = len(label_names)\n",
    "        \n",
    "        if label_index == 2:\n",
    "            label_index = 1\n",
    "            #print('features for binary classification!')\n",
    "        \n",
    "        for index in range(label_index):\n",
    "            #print(str(index) + label_names[index])\n",
    "            #print('clf.coef_:',len(clf.coef_))\n",
    "            \n",
    "            output.append('\\n' + label_names[index] + ':\\n')\n",
    "            \n",
    "            coefs_with_fns = sorted(zip(clf.coef_[index], feature_names))\n",
    "            \n",
    "            #print(coefs_with_fns)\n",
    "            \n",
    "            threshold = int(max_number_informative_features / 2)\n",
    "\n",
    "            top = zip(coefs_with_fns[:threshold],\n",
    "                      coefs_with_fns[:-(threshold + 1):-1])\n",
    "            \n",
    "            for (coef_1, fn_1), (coef_2, fn_2) in top:\n",
    "                feat = \"\\t%.4f\\t%-15s\\t\\t%.4f\\t%-15s\" % (coef_1, fn_1, coef_2, fn_2)\n",
    "                output.append(feat)\n",
    "            \n",
    "            #print('\\n'.join(output))\n",
    "                \n",
    "    except:\n",
    "        print(\"Unexpected error:\", sys.exc_info()[0])\n",
    "        raise \n",
    "        return '\\n'.join(output)\n",
    "\n",
    "    return '\\n'.join(output)\n"
   ]
  },
  {
   "cell_type": "code",
   "execution_count": 9,
   "id": "7b0c5acb",
   "metadata": {},
   "outputs": [],
   "source": [
    "def get_key_categories(dict, value):\n",
    "    \n",
    "    if not value.isdigit():\n",
    "        return None\n",
    "    \n",
    "    for key, val in dict.items():\n",
    "        if val == int(value):\n",
    "            return key\n",
    "    \n",
    "    return None\n",
    "    "
   ]
  },
  {
   "cell_type": "code",
   "execution_count": 10,
   "id": "3f66ef44",
   "metadata": {},
   "outputs": [],
   "source": [
    "X = df['comments']\n",
    "y = df['tagging']"
   ]
  },
  {
   "cell_type": "code",
   "execution_count": 11,
   "id": "3f87dfad",
   "metadata": {},
   "outputs": [],
   "source": [
    "X_train, X_test, y_train, y_test = train_test_split(X, y, random_state=42)"
   ]
  },
  {
   "cell_type": "code",
   "execution_count": 12,
   "id": "97d31532",
   "metadata": {},
   "outputs": [],
   "source": [
    "cv = CountVectorizer()\n",
    "X_Trainvec = cv.fit_transform(X_train)\n",
    "X_Testvec = cv.transform(X_test)"
   ]
  },
  {
   "cell_type": "markdown",
   "id": "2fa96875",
   "metadata": {},
   "source": [
    "## Logistic Regression"
   ]
  },
  {
   "cell_type": "code",
   "execution_count": 14,
   "id": "d3866bed",
   "metadata": {},
   "outputs": [
    {
     "name": "stdout",
     "output_type": "stream",
     "text": [
      "Train 0.9618459589962796\n",
      "Test 0.8167141500474834\n"
     ]
    }
   ],
   "source": [
    "warnings.filterwarnings('ignore')\n",
    "lr = LogisticRegression()\n",
    "lr.fit(X_Trainvec, y_train)\n",
    "lr_score = lr.score(X_Trainvec, y_train)\n",
    "print(\"Train\", lr_score)\n",
    "lr_score = lr.score(X_Testvec, y_test)\n",
    "print( \"Test\",lr_score)"
   ]
  },
  {
   "cell_type": "code",
   "execution_count": 15,
   "id": "f285351a",
   "metadata": {},
   "outputs": [],
   "source": [
    "pred = lr.predict(X_Testvec)"
   ]
  },
  {
   "cell_type": "code",
   "execution_count": 16,
   "id": "a2bb17d0",
   "metadata": {},
   "outputs": [
    {
     "name": "stdout",
     "output_type": "stream",
     "text": [
      "              precision    recall  f1-score   support\n",
      "\n",
      "           0       0.83      0.82      0.82      2207\n",
      "           1       0.80      0.81      0.81      2005\n",
      "\n",
      "    accuracy                           0.82      4212\n",
      "   macro avg       0.82      0.82      0.82      4212\n",
      "weighted avg       0.82      0.82      0.82      4212\n",
      "\n"
     ]
    }
   ],
   "source": [
    "print(classification_report(pred,y_test))"
   ]
  },
  {
   "cell_type": "markdown",
   "id": "be30a296",
   "metadata": {},
   "source": [
    "**In the above model, we used unigrams (single words) only. This is the default for count_vectorizer. Below, we will create a Pipeline, consisting of Countvectorizer, TfidfTransformer, and LogisticRegression:**"
   ]
  },
  {
   "cell_type": "code",
   "execution_count": 98,
   "id": "68a05ad7",
   "metadata": {},
   "outputs": [],
   "source": [
    "cat_mapping = {'neg': 1, 'pos': 0 }\n",
    "\n",
    "cat_labels = list(cat_mapping.keys())"
   ]
  },
  {
   "cell_type": "code",
   "execution_count": 99,
   "id": "7cc89d5f",
   "metadata": {},
   "outputs": [],
   "source": [
    "pipe_clf = Pipeline(\n",
    "    [('vect', CountVectorizer(ngram_range=(1,3))),\n",
    "     ('tfidf', TfidfTransformer()),\n",
    "     ('clf', LogisticRegression(penalty='l2', solver='lbfgs',\n",
    "                                dual=False, multi_class='multinomial', tol=1e-3)),\n",
    "     ])"
   ]
  },
  {
   "cell_type": "code",
   "execution_count": 100,
   "id": "b28089b8",
   "metadata": {},
   "outputs": [],
   "source": [
    "text_clf = pipe_clf.fit(X_train, y_train)\n",
    "\n",
    "predictions = pipe_clf.predict(X_test)"
   ]
  },
  {
   "cell_type": "code",
   "execution_count": 101,
   "id": "79fec81d",
   "metadata": {},
   "outputs": [
    {
     "name": "stdout",
     "output_type": "stream",
     "text": [
      "accuracy (simple): 0.7981956315289649\n"
     ]
    }
   ],
   "source": [
    "print('accuracy (simple):', accuracy_score(y_test, predictions))"
   ]
  },
  {
   "cell_type": "code",
   "execution_count": 102,
   "id": "58b8f8b3",
   "metadata": {},
   "outputs": [],
   "source": [
    "measures_info = metrics.classification_report(y_test, predictions, output_dict=True)"
   ]
  },
  {
   "cell_type": "code",
   "execution_count": 103,
   "id": "f0519796",
   "metadata": {},
   "outputs": [
    {
     "name": "stdout",
     "output_type": "stream",
     "text": [
      "+-------+-----------+--------+----------+---------+\n",
      "| Label | Precision | Recall | f1-score | support |\n",
      "+-------+-----------+--------+----------+---------+\n",
      "|  pos  |   0.797   |  0.82  |  0.808   |   2187  |\n",
      "|  neg  |   0.799   | 0.775  |  0.787   |   2025  |\n",
      "+-------+-----------+--------+----------+---------+\n",
      "Important Features:\n",
      " \n",
      "neg:\n",
      "\n",
      "\t-4.5459\tlike           \t\t4.3272\tshit           \n",
      "\t-3.8331\tgood           \t\t4.2495\tfuck           \n",
      "\t-3.0769\tpretty         \t\t3.4407\tracism         \n",
      "\t-3.0523\tlove           \t\t3.1688\twrong          \n",
      "\t-2.8487\twell           \t\t3.1338\tracist         \n"
     ]
    }
   ],
   "source": [
    "tab = PrettyTable(['Label', 'Precision', 'Recall', 'f1-score', 'support'])\n",
    "\n",
    "\n",
    "for key, value in measures_info.items():\n",
    "    if key.isdigit():\n",
    "        label = get_key_categories(cat_mapping, key)\n",
    "        tab.add_row([label, round(value['precision'],3), round(value['recall'],3), round(value['f1-score'],3), value['support']])\n",
    "    else:\n",
    "        pass\n",
    "      \n",
    "\n",
    "print(tab)\n",
    "\n",
    "\n",
    "vectorizer = pipe_clf.named_steps['vect']\n",
    "\n",
    "clf = pipe_clf.named_steps['clf']\n",
    "\n",
    "feature_names = vectorizer.get_feature_names()\n",
    "\n",
    "\n",
    "imp_features = get_most_informative_features(clf, vectorizer,cat_labels, 10)\n",
    "\n",
    "print('Important Features:\\n', imp_features)\n"
   ]
  },
  {
   "cell_type": "markdown",
   "id": "458a0cfd",
   "metadata": {},
   "source": [
    "## Naive Bayes Classifier:"
   ]
  },
  {
   "cell_type": "code",
   "execution_count": 26,
   "id": "ba7fa928",
   "metadata": {},
   "outputs": [
    {
     "name": "stdout",
     "output_type": "stream",
     "text": [
      "Train 0.8957492282118261\n",
      "Test 0.7575973409306742\n"
     ]
    }
   ],
   "source": [
    "nb = MultinomialNB()\n",
    "\n",
    "nb.fit(X_Trainvec, y_train)\n",
    "nb_score = nb.score(X_Trainvec, y_train)\n",
    "print(\"Train\", nb_score)\n",
    "nb_score = nb.score(X_Testvec, y_test)\n",
    "print( \"Test\",nb_score)"
   ]
  },
  {
   "cell_type": "code",
   "execution_count": 27,
   "id": "c27f543f",
   "metadata": {},
   "outputs": [],
   "source": [
    "pred_nb = nb.predict(X_Testvec)"
   ]
  },
  {
   "cell_type": "code",
   "execution_count": 28,
   "id": "cb9e4e48",
   "metadata": {},
   "outputs": [
    {
     "name": "stdout",
     "output_type": "stream",
     "text": [
      "              precision    recall  f1-score   support\n",
      "\n",
      "           0       0.75      0.77      0.76      2134\n",
      "           1       0.76      0.74      0.75      2078\n",
      "\n",
      "    accuracy                           0.76      4212\n",
      "   macro avg       0.76      0.76      0.76      4212\n",
      "weighted avg       0.76      0.76      0.76      4212\n",
      "\n"
     ]
    }
   ],
   "source": [
    "print(classification_report(pred_nb,y_test))"
   ]
  },
  {
   "cell_type": "markdown",
   "id": "410f336b",
   "metadata": {},
   "source": [
    "**Pipeline:**"
   ]
  },
  {
   "cell_type": "code",
   "execution_count": 32,
   "id": "cb27a297",
   "metadata": {},
   "outputs": [],
   "source": [
    "pipe_mnb = Pipeline(\n",
    "    [('vect', CountVectorizer(ngram_range=(1,3))),\n",
    "     ('tfidf', TfidfTransformer()),\n",
    "     ('mnb', MultinomialNB()),\n",
    "     ])"
   ]
  },
  {
   "cell_type": "code",
   "execution_count": 33,
   "id": "f5906085",
   "metadata": {},
   "outputs": [],
   "source": [
    "text_mnb = pipe_mnb.fit(X_train, y_train)\n",
    "\n",
    "predictions_mnb = pipe_mnb.predict(X_test)"
   ]
  },
  {
   "cell_type": "code",
   "execution_count": 34,
   "id": "df091e13",
   "metadata": {},
   "outputs": [
    {
     "name": "stdout",
     "output_type": "stream",
     "text": [
      "accuracy (simple): 0.7642450142450142\n"
     ]
    }
   ],
   "source": [
    "print('accuracy (simple):', accuracy_score(y_test, predictions_mnb))"
   ]
  },
  {
   "cell_type": "code",
   "execution_count": 35,
   "id": "74cf687b",
   "metadata": {},
   "outputs": [],
   "source": [
    "measures_info = metrics.classification_report(y_test, predictions_mnb, output_dict=True)"
   ]
  },
  {
   "cell_type": "code",
   "execution_count": 36,
   "id": "c0d20672",
   "metadata": {},
   "outputs": [
    {
     "name": "stdout",
     "output_type": "stream",
     "text": [
      "+-------+-----------+--------+----------+---------+\n",
      "| Label | Precision | Recall | f1-score | support |\n",
      "+-------+-----------+--------+----------+---------+\n",
      "|  pos  |   0.731   | 0.864  |  0.792   |   2187  |\n",
      "|  neg  |   0.817   | 0.657  |  0.728   |   2025  |\n",
      "+-------+-----------+--------+----------+---------+\n",
      "Important Features:\n",
      " \n",
      "neg:\n",
      "\n",
      "\t-13.0547\t00 max         \t\t-8.7079\tit             \n",
      "\t-13.0547\t00 max btw     \t\t-8.7171\tpeople         \n",
      "\t-13.0547\t000 000        \t\t-8.9555\tyou            \n",
      "\t-13.0547\t000 000 our    \t\t-9.1913\tthat           \n",
      "\t-13.0547\t000 15         \t\t-9.2471\tre             \n"
     ]
    }
   ],
   "source": [
    "tab = PrettyTable(['Label', 'Precision', 'Recall', 'f1-score', 'support'])\n",
    "\n",
    "\n",
    "for key, value in measures_info.items():\n",
    "    if key.isdigit():\n",
    "        label = get_key_categories(cat_mapping, key)\n",
    "        tab.add_row([label, round(value['precision'],3), round(value['recall'],3), round(value['f1-score'],3), value['support']])\n",
    "    else:\n",
    "        pass\n",
    "      \n",
    "\n",
    "print(tab)\n",
    "\n",
    "\n",
    "vectorizer = pipe_mnb.named_steps['vect']\n",
    "\n",
    "mnb = pipe_mnb.named_steps['mnb']\n",
    "\n",
    "feature_names = vectorizer.get_feature_names()\n",
    "\n",
    "\n",
    "imp_features = get_most_informative_features(mnb, vectorizer,cat_labels, 10)\n",
    "\n",
    "print('Important Features:\\n', imp_features)\n"
   ]
  },
  {
   "cell_type": "markdown",
   "id": "0ebe579e",
   "metadata": {},
   "source": [
    "## Decision Tree Classifier:"
   ]
  },
  {
   "cell_type": "code",
   "execution_count": 37,
   "id": "e1b5654b",
   "metadata": {},
   "outputs": [
    {
     "name": "stdout",
     "output_type": "stream",
     "text": [
      "Train 1.0\n",
      "Test 0.7238841405508072\n"
     ]
    }
   ],
   "source": [
    "dt = DecisionTreeClassifier()\n",
    "\n",
    "dt.fit(X_Trainvec, y_train)\n",
    "dt_score = dt.score(X_Trainvec, y_train)\n",
    "print(\"Train\", dt_score)\n",
    "dt_score = dt.score(X_Testvec, y_test)\n",
    "print( \"Test\",dt_score)"
   ]
  },
  {
   "cell_type": "code",
   "execution_count": 38,
   "id": "a5c0c1d2",
   "metadata": {},
   "outputs": [],
   "source": [
    "pred_dt = dt.predict(X_Testvec)"
   ]
  },
  {
   "cell_type": "code",
   "execution_count": 39,
   "id": "f6163824",
   "metadata": {},
   "outputs": [
    {
     "name": "stdout",
     "output_type": "stream",
     "text": [
      "              precision    recall  f1-score   support\n",
      "\n",
      "           0       0.76      0.72      0.74      2322\n",
      "           1       0.68      0.73      0.70      1890\n",
      "\n",
      "    accuracy                           0.72      4212\n",
      "   macro avg       0.72      0.72      0.72      4212\n",
      "weighted avg       0.73      0.72      0.72      4212\n",
      "\n"
     ]
    }
   ],
   "source": [
    "print(classification_report(pred_dt,y_test))"
   ]
  },
  {
   "cell_type": "markdown",
   "id": "8e694f5a",
   "metadata": {},
   "source": [
    "**Pipeline:**"
   ]
  },
  {
   "cell_type": "code",
   "execution_count": 40,
   "id": "478159c7",
   "metadata": {},
   "outputs": [],
   "source": [
    "pipe_dt = Pipeline(\n",
    "    [('vect', CountVectorizer(ngram_range=(1,3))),\n",
    "     ('tfidf', TfidfTransformer()),\n",
    "     ('dt', DecisionTreeClassifier()),\n",
    "     ])"
   ]
  },
  {
   "cell_type": "code",
   "execution_count": 41,
   "id": "b3b8faf4",
   "metadata": {},
   "outputs": [],
   "source": [
    "text_dt = pipe_dt.fit(X_train, y_train)\n",
    "\n",
    "predictions_dt = pipe_dt.predict(X_test)"
   ]
  },
  {
   "cell_type": "code",
   "execution_count": 42,
   "id": "823af152",
   "metadata": {},
   "outputs": [
    {
     "name": "stdout",
     "output_type": "stream",
     "text": [
      "accuracy (simple): 0.7091642924976258\n"
     ]
    }
   ],
   "source": [
    "print('accuracy (simple):', accuracy_score(y_test, predictions_dt))"
   ]
  },
  {
   "cell_type": "code",
   "execution_count": 43,
   "id": "c44aa942",
   "metadata": {},
   "outputs": [],
   "source": [
    "measures_info = metrics.classification_report(y_test, predictions_dt, output_dict=True)"
   ]
  },
  {
   "cell_type": "code",
   "execution_count": 44,
   "id": "d65fc80b",
   "metadata": {},
   "outputs": [
    {
     "name": "stdout",
     "output_type": "stream",
     "text": [
      "+-------+-----------+--------+----------+---------+\n",
      "| Label | Precision | Recall | f1-score | support |\n",
      "+-------+-----------+--------+----------+---------+\n",
      "|  pos  |   0.691   | 0.795  |  0.739   |   2187  |\n",
      "|  neg  |   0.736   | 0.617  |  0.671   |   2025  |\n",
      "+-------+-----------+--------+----------+---------+\n"
     ]
    }
   ],
   "source": [
    "tab = PrettyTable(['Label', 'Precision', 'Recall', 'f1-score', 'support'])\n",
    "\n",
    "\n",
    "for key, value in measures_info.items():\n",
    "    if key.isdigit():\n",
    "        label = get_key_categories(cat_mapping, key)\n",
    "        tab.add_row([label, round(value['precision'],3), round(value['recall'],3), round(value['f1-score'],3), value['support']])\n",
    "    else:\n",
    "        pass\n",
    "      \n",
    "\n",
    "print(tab)\n"
   ]
  },
  {
   "cell_type": "markdown",
   "id": "bbb44db9",
   "metadata": {},
   "source": [
    "## Random Forest:"
   ]
  },
  {
   "cell_type": "code",
   "execution_count": 104,
   "id": "8089d5fa",
   "metadata": {},
   "outputs": [
    {
     "name": "stdout",
     "output_type": "stream",
     "text": [
      "Train 1.0\n",
      "Test 0.7856125356125356\n"
     ]
    }
   ],
   "source": [
    "rf = RandomForestClassifier()\n",
    "\n",
    "rf.fit(X_Trainvec, y_train)\n",
    "rf_score = rf.score(X_Trainvec, y_train)\n",
    "print(\"Train\", rf_score)\n",
    "rf_score = rf.score(X_Testvec, y_test)\n",
    "print( \"Test\",rf_score)"
   ]
  },
  {
   "cell_type": "code",
   "execution_count": 46,
   "id": "93d61d81",
   "metadata": {},
   "outputs": [],
   "source": [
    "pred_rf = rf.predict(X_Testvec)"
   ]
  },
  {
   "cell_type": "code",
   "execution_count": 47,
   "id": "d31a5cda",
   "metadata": {},
   "outputs": [
    {
     "name": "stdout",
     "output_type": "stream",
     "text": [
      "              precision    recall  f1-score   support\n",
      "\n",
      "           0       0.83      0.78      0.80      2316\n",
      "           1       0.75      0.80      0.77      1896\n",
      "\n",
      "    accuracy                           0.79      4212\n",
      "   macro avg       0.79      0.79      0.79      4212\n",
      "weighted avg       0.79      0.79      0.79      4212\n",
      "\n"
     ]
    }
   ],
   "source": [
    "print(classification_report(pred_rf,y_test))"
   ]
  },
  {
   "cell_type": "code",
   "execution_count": 105,
   "id": "ff24ae78",
   "metadata": {},
   "outputs": [
    {
     "data": {
      "text/plain": [
       "GridSearchCV(cv=5, estimator=RandomForestClassifier(),\n",
       "             param_grid={'max_depth': [3, 5, 15], 'min_samples_split': [5, 10],\n",
       "                         'n_estimators': [10, 100, 200, 1000],\n",
       "                         'random_state': [7]},\n",
       "             return_train_score=True, scoring='f1_macro')"
      ]
     },
     "execution_count": 105,
     "metadata": {},
     "output_type": "execute_result"
    }
   ],
   "source": [
    "RF = RandomForestClassifier()\n",
    "param_grid = {\n",
    " 'n_estimators': [10, 100, 200, 1000],\n",
    " 'max_depth': [3, 5, 15],\n",
    " 'min_samples_split': [5, 10],\n",
    " 'random_state': [7]\n",
    "}\n",
    "grid_search = GridSearchCV(RF, param_grid, cv=5,\n",
    " scoring='f1_macro',\n",
    "return_train_score=True)\n",
    "\n",
    "grid_search.fit(X_Trainvec, y_train)\n"
   ]
  },
  {
   "cell_type": "code",
   "execution_count": 106,
   "id": "c2dc0b5a",
   "metadata": {},
   "outputs": [],
   "source": [
    "y_ant = grid_search.predict(X_Testvec)"
   ]
  },
  {
   "cell_type": "code",
   "execution_count": 107,
   "id": "ff005e91",
   "metadata": {},
   "outputs": [
    {
     "name": "stdout",
     "output_type": "stream",
     "text": [
      "              precision    recall  f1-score   support\n",
      "\n",
      "           0       0.95      0.63      0.76      3269\n",
      "           1       0.41      0.87      0.56       943\n",
      "\n",
      "    accuracy                           0.69      4212\n",
      "   macro avg       0.68      0.75      0.66      4212\n",
      "weighted avg       0.82      0.69      0.71      4212\n",
      "\n"
     ]
    }
   ],
   "source": [
    "print(classification_report(y_ant,y_test))"
   ]
  },
  {
   "cell_type": "code",
   "execution_count": 108,
   "id": "7b9945c3",
   "metadata": {},
   "outputs": [
    {
     "data": {
      "text/plain": [
       "RandomForestClassifier(max_depth=15, min_samples_split=5, n_estimators=1000,\n",
       "                       random_state=7)"
      ]
     },
     "execution_count": 108,
     "metadata": {},
     "output_type": "execute_result"
    }
   ],
   "source": [
    "grid_search.best_estimator_"
   ]
  },
  {
   "cell_type": "code",
   "execution_count": 109,
   "id": "1cffb69e",
   "metadata": {},
   "outputs": [
    {
     "data": {
      "text/plain": [
       "0.6538778934654894"
      ]
     },
     "execution_count": 109,
     "metadata": {},
     "output_type": "execute_result"
    }
   ],
   "source": [
    "grid_search.best_score_"
   ]
  },
  {
   "cell_type": "markdown",
   "id": "899572fb",
   "metadata": {},
   "source": [
    "**Pipeline:**"
   ]
  },
  {
   "cell_type": "code",
   "execution_count": 48,
   "id": "c1d5ae9b",
   "metadata": {},
   "outputs": [],
   "source": [
    "pipe_rf = Pipeline(\n",
    "    [('vect', CountVectorizer(ngram_range=(1,3))),\n",
    "     ('tfidf', TfidfTransformer()),\n",
    "     ('rf', RandomForestClassifier()),\n",
    "     ])"
   ]
  },
  {
   "cell_type": "code",
   "execution_count": 49,
   "id": "529da4a8",
   "metadata": {},
   "outputs": [],
   "source": [
    "text_rf = pipe_rf.fit(X_train, y_train)\n",
    "\n",
    "predictions_rf = pipe_rf.predict(X_test)"
   ]
  },
  {
   "cell_type": "code",
   "execution_count": 50,
   "id": "4055b308",
   "metadata": {},
   "outputs": [
    {
     "name": "stdout",
     "output_type": "stream",
     "text": [
      "accuracy (simple): 0.7656695156695157\n"
     ]
    }
   ],
   "source": [
    "print('accuracy (simple):', accuracy_score(y_test, predictions_rf))"
   ]
  },
  {
   "cell_type": "code",
   "execution_count": 51,
   "id": "26d72503",
   "metadata": {},
   "outputs": [],
   "source": [
    "measures_info = metrics.classification_report(y_test, predictions_rf, output_dict=True)"
   ]
  },
  {
   "cell_type": "code",
   "execution_count": 52,
   "id": "44809f21",
   "metadata": {},
   "outputs": [
    {
     "name": "stdout",
     "output_type": "stream",
     "text": [
      "+-------+-----------+--------+----------+---------+\n",
      "| Label | Precision | Recall | f1-score | support |\n",
      "+-------+-----------+--------+----------+---------+\n",
      "|  pos  |   0.751   | 0.821  |  0.784   |   2187  |\n",
      "|  neg  |   0.785   | 0.706  |  0.743   |   2025  |\n",
      "+-------+-----------+--------+----------+---------+\n"
     ]
    }
   ],
   "source": [
    "tab = PrettyTable(['Label', 'Precision', 'Recall', 'f1-score', 'support'])\n",
    "\n",
    "\n",
    "for key, value in measures_info.items():\n",
    "    if key.isdigit():\n",
    "        label = get_key_categories(cat_mapping, key)\n",
    "        tab.add_row([label, round(value['precision'],3), round(value['recall'],3), round(value['f1-score'],3), value['support']])\n",
    "    else:\n",
    "        pass\n",
    "      \n",
    "\n",
    "print(tab)\n"
   ]
  },
  {
   "cell_type": "markdown",
   "id": "5ced4514",
   "metadata": {},
   "source": [
    "## SVM"
   ]
  },
  {
   "cell_type": "code",
   "execution_count": 58,
   "id": "e1c9d1dd",
   "metadata": {},
   "outputs": [
    {
     "name": "stdout",
     "output_type": "stream",
     "text": [
      "Train 0.9363571598195203\n",
      "Test 0.7981956315289649\n"
     ]
    }
   ],
   "source": [
    "sv = SVC()\n",
    "sv.fit(X_Trainvec, y_train)\n",
    "sv_score = sv.score(X_Trainvec, y_train)\n",
    "print(\"Train\", sv_score)\n",
    "sv_score = sv.score(X_Testvec, y_test)\n",
    "print( \"Test\",sv_score)"
   ]
  },
  {
   "cell_type": "code",
   "execution_count": 59,
   "id": "ef83d3df",
   "metadata": {},
   "outputs": [],
   "source": [
    "pred_sv = sv.predict(X_Testvec)"
   ]
  },
  {
   "cell_type": "code",
   "execution_count": 61,
   "id": "a0d9d329",
   "metadata": {},
   "outputs": [
    {
     "name": "stdout",
     "output_type": "stream",
     "text": [
      "              precision    recall  f1-score   support\n",
      "\n",
      "           0       0.84      0.79      0.81      2345\n",
      "           1       0.75      0.81      0.78      1867\n",
      "\n",
      "    accuracy                           0.80      4212\n",
      "   macro avg       0.80      0.80      0.80      4212\n",
      "weighted avg       0.80      0.80      0.80      4212\n",
      "\n"
     ]
    }
   ],
   "source": [
    "print(classification_report(pred_sv,y_test))"
   ]
  },
  {
   "cell_type": "markdown",
   "id": "1d8de3b2",
   "metadata": {},
   "source": [
    "**Pipeline:**"
   ]
  },
  {
   "cell_type": "code",
   "execution_count": 62,
   "id": "ff709136",
   "metadata": {},
   "outputs": [],
   "source": [
    "pipe_sv = Pipeline(\n",
    "    [('vect', CountVectorizer(ngram_range=(1,3))),\n",
    "     ('tfidf', TfidfTransformer()),\n",
    "     ('sv', SVC()),\n",
    "     ])"
   ]
  },
  {
   "cell_type": "code",
   "execution_count": 63,
   "id": "4fb07ed8",
   "metadata": {},
   "outputs": [],
   "source": [
    "text_rf = pipe_sv.fit(X_train, y_train)\n",
    "\n",
    "predictions_sv = pipe_sv.predict(X_test)"
   ]
  },
  {
   "cell_type": "code",
   "execution_count": 64,
   "id": "aafb747f",
   "metadata": {},
   "outputs": [
    {
     "name": "stdout",
     "output_type": "stream",
     "text": [
      "accuracy (simple): 0.7886989553656221\n"
     ]
    }
   ],
   "source": [
    "print('accuracy (simple):', accuracy_score(y_test, predictions_sv))"
   ]
  },
  {
   "cell_type": "code",
   "execution_count": 65,
   "id": "1b513032",
   "metadata": {},
   "outputs": [],
   "source": [
    "measures_info = metrics.classification_report(y_test, predictions_sv, output_dict=True)"
   ]
  },
  {
   "cell_type": "code",
   "execution_count": 66,
   "id": "712cb901",
   "metadata": {},
   "outputs": [
    {
     "name": "stdout",
     "output_type": "stream",
     "text": [
      "+-------+-----------+--------+----------+---------+\n",
      "| Label | Precision | Recall | f1-score | support |\n",
      "+-------+-----------+--------+----------+---------+\n",
      "|  pos  |    0.78   | 0.827  |  0.802   |   2187  |\n",
      "|  neg  |    0.8    | 0.748  |  0.773   |   2025  |\n",
      "+-------+-----------+--------+----------+---------+\n"
     ]
    }
   ],
   "source": [
    "tab = PrettyTable(['Label', 'Precision', 'Recall', 'f1-score', 'support'])\n",
    "\n",
    "\n",
    "for key, value in measures_info.items():\n",
    "    if key.isdigit():\n",
    "        label = get_key_categories(cat_mapping, key)\n",
    "        tab.add_row([label, round(value['precision'],3), round(value['recall'],3), round(value['f1-score'],3), value['support']])\n",
    "    else:\n",
    "        pass\n",
    "      \n",
    "\n",
    "print(tab)\n"
   ]
  },
  {
   "cell_type": "markdown",
   "id": "bad20365",
   "metadata": {},
   "source": [
    "## MLP"
   ]
  },
  {
   "cell_type": "code",
   "execution_count": 70,
   "id": "ec6d344b",
   "metadata": {},
   "outputs": [
    {
     "name": "stdout",
     "output_type": "stream",
     "text": [
      "Train 0.9790231932240956\n",
      "Test 0.8041310541310541\n"
     ]
    }
   ],
   "source": [
    "nn = MLPClassifier(solver=\"lbfgs\",activation=\"relu\", alpha=1e-4, hidden_layer_sizes=(4, 4), random_state=11)\n",
    "nn.fit(X_Trainvec, y_train)\n",
    "nn_score = nn.score(X_Trainvec, y_train)\n",
    "print(\"Train\", nn_score)\n",
    "nn_score = nn.score(X_Testvec, y_test)\n",
    "print( \"Test\",nn_score)"
   ]
  },
  {
   "cell_type": "code",
   "execution_count": 71,
   "id": "93293292",
   "metadata": {},
   "outputs": [],
   "source": [
    "pred_nn = nn.predict(X_Testvec)"
   ]
  },
  {
   "cell_type": "code",
   "execution_count": 72,
   "id": "09bcbdb1",
   "metadata": {},
   "outputs": [
    {
     "name": "stdout",
     "output_type": "stream",
     "text": [
      "              precision    recall  f1-score   support\n",
      "\n",
      "           0       0.82      0.81      0.81      2224\n",
      "           1       0.79      0.80      0.79      1988\n",
      "\n",
      "    accuracy                           0.80      4212\n",
      "   macro avg       0.80      0.80      0.80      4212\n",
      "weighted avg       0.80      0.80      0.80      4212\n",
      "\n"
     ]
    }
   ],
   "source": [
    "print(classification_report(pred_nn,y_test))"
   ]
  },
  {
   "cell_type": "markdown",
   "id": "cdb6b64d",
   "metadata": {},
   "source": [
    "**Pipeline:**"
   ]
  },
  {
   "cell_type": "code",
   "execution_count": 73,
   "id": "b2d9e466",
   "metadata": {},
   "outputs": [],
   "source": [
    "pipe_nn = Pipeline(\n",
    "    [('vect', CountVectorizer(ngram_range=(1,3))),\n",
    "     ('tfidf', TfidfTransformer()),\n",
    "     ('nn', MLPClassifier(solver=\"lbfgs\",activation=\"relu\", alpha=1e-4, hidden_layer_sizes=(4, 4), random_state=11)),\n",
    "     ])"
   ]
  },
  {
   "cell_type": "code",
   "execution_count": 74,
   "id": "400dcb2a",
   "metadata": {},
   "outputs": [],
   "source": [
    "text_nn = pipe_nn.fit(X_train, y_train)\n",
    "\n",
    "predictions_nn = pipe_nn.predict(X_test)"
   ]
  },
  {
   "cell_type": "code",
   "execution_count": 75,
   "id": "dd0cf8dd",
   "metadata": {},
   "outputs": [
    {
     "name": "stdout",
     "output_type": "stream",
     "text": [
      "accuracy (simple): 0.7908357075023742\n"
     ]
    }
   ],
   "source": [
    "print('accuracy (simple):', accuracy_score(y_test, predictions_nn))"
   ]
  },
  {
   "cell_type": "code",
   "execution_count": 76,
   "id": "65525713",
   "metadata": {},
   "outputs": [],
   "source": [
    "measures_info = metrics.classification_report(y_test, predictions_nn, output_dict=True)"
   ]
  },
  {
   "cell_type": "code",
   "execution_count": 77,
   "id": "cb665b3b",
   "metadata": {},
   "outputs": [
    {
     "name": "stdout",
     "output_type": "stream",
     "text": [
      "+-------+-----------+--------+----------+---------+\n",
      "| Label | Precision | Recall | f1-score | support |\n",
      "+-------+-----------+--------+----------+---------+\n",
      "|  pos  |   0.811   | 0.779  |  0.795   |   2187  |\n",
      "|  neg  |   0.771   | 0.803  |  0.787   |   2025  |\n",
      "+-------+-----------+--------+----------+---------+\n"
     ]
    }
   ],
   "source": [
    "tab = PrettyTable(['Label', 'Precision', 'Recall', 'f1-score', 'support'])\n",
    "\n",
    "\n",
    "for key, value in measures_info.items():\n",
    "    if key.isdigit():\n",
    "        label = get_key_categories(cat_mapping, key)\n",
    "        tab.add_row([label, round(value['precision'],3), round(value['recall'],3), round(value['f1-score'],3), value['support']])\n",
    "    else:\n",
    "        pass\n",
    "      \n",
    "\n",
    "print(tab)\n"
   ]
  }
 ],
 "metadata": {
  "kernelspec": {
   "display_name": "Python 3 (ipykernel)",
   "language": "python",
   "name": "python3"
  },
  "language_info": {
   "codemirror_mode": {
    "name": "ipython",
    "version": 3
   },
   "file_extension": ".py",
   "mimetype": "text/x-python",
   "name": "python",
   "nbconvert_exporter": "python",
   "pygments_lexer": "ipython3",
   "version": "3.8.12"
  }
 },
 "nbformat": 4,
 "nbformat_minor": 5
}
